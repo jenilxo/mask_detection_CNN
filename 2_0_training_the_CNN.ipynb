{
 "cells": [
  {
   "cell_type": "markdown",
   "metadata": {
    "id": "kA13hwiNlbI7"
   },
   "source": [
    "# Convolutional Neural Network Architecture"
   ]
  },
  {
   "cell_type": "code",
   "execution_count": 1,
   "metadata": {
    "id": "HopfifHwlbJL"
   },
   "outputs": [],
   "source": [
    "import numpy as np\n",
    "\n",
    "data=np.load('data.npy')\n",
    "target=np.load('target.npy')\n",
    "\n",
    "#loading the save numpy arrays in the previous code"
   ]
  },
  {
   "cell_type": "code",
   "execution_count": 2,
   "metadata": {
    "id": "yeIhlVRrlbJP"
   },
   "outputs": [],
   "source": [
    "from keras.models import Sequential\n",
    "from keras.layers import Dense,Activation,Flatten,Dropout\n",
    "from keras.layers import Conv2D,MaxPooling2D\n",
    "from keras.callbacks import ModelCheckpoint\n",
    "\n",
    "model=Sequential()\n",
    "\n",
    "model.add(Conv2D(200,(3,3),input_shape=data.shape[1:]))\n",
    "model.add(Activation('relu'))\n",
    "model.add(MaxPooling2D(pool_size=(2,2)))\n",
    "#The first CNN layer followed by Relu and MaxPooling layers\n",
    "\n",
    "model.add(Conv2D(100,(3,3)))\n",
    "model.add(Activation('relu'))\n",
    "model.add(MaxPooling2D(pool_size=(2,2)))\n",
    "#The second convolution layer followed by Relu and MaxPooling layers\n",
    "\n",
    "model.add(Flatten())\n",
    "model.add(Dropout(0.5))\n",
    "#Flatten layer to stack the output convolutions from second convolution layer\n",
    "model.add(Dense(50,activation='relu'))\n",
    "#Dense layer of 50 neurons\n",
    "model.add(Dense(2,activation='softmax'))\n",
    "#The Final layer with two outputs for two categories\n",
    "\n",
    "model.compile(loss='categorical_crossentropy',optimizer='adam',metrics=['accuracy'])"
   ]
  },
  {
   "cell_type": "code",
   "execution_count": 3,
   "metadata": {
    "id": "QBS-mkW_lbJU"
   },
   "outputs": [],
   "source": [
    "from sklearn.model_selection import train_test_split\n",
    "\n",
    "train_data,test_data,train_target,test_target=train_test_split(data,target,test_size=0.1)"
   ]
  },
  {
   "cell_type": "code",
   "execution_count": 4,
   "metadata": {
    "id": "JouYeWFRlbJW",
    "outputId": "f084a0b8-7d23-469a-9a96-9c30fc5b4c6c",
    "scrolled": true
   },
   "outputs": [
    {
     "name": "stdout",
     "output_type": "stream",
     "text": [
      "Epoch 1/20\n",
      "54/54 [==============================] - ETA: 0s - loss: 0.6843 - accuracy: 0.5892INFO:tensorflow:Assets written to: model-001.model\\assets\n",
      "54/54 [==============================] - 45s 821ms/step - loss: 0.6843 - accuracy: 0.5892 - val_loss: 0.5891 - val_accuracy: 0.7494\n",
      "Epoch 2/20\n",
      "54/54 [==============================] - ETA: 0s - loss: 0.5575 - accuracy: 0.7136INFO:tensorflow:Assets written to: model-002.model\\assets\n",
      "54/54 [==============================] - 45s 830ms/step - loss: 0.5575 - accuracy: 0.7136 - val_loss: 0.4216 - val_accuracy: 0.8080\n",
      "Epoch 3/20\n",
      "54/54 [==============================] - ETA: 0s - loss: 0.4100 - accuracy: 0.8210INFO:tensorflow:Assets written to: model-003.model\\assets\n",
      "54/54 [==============================] - 45s 833ms/step - loss: 0.4100 - accuracy: 0.8210 - val_loss: 0.4158 - val_accuracy: 0.8080\n",
      "Epoch 4/20\n",
      "54/54 [==============================] - ETA: 0s - loss: 0.3195 - accuracy: 0.8709INFO:tensorflow:Assets written to: model-004.model\\assets\n",
      "54/54 [==============================] - 53s 987ms/step - loss: 0.3195 - accuracy: 0.8709 - val_loss: 0.2925 - val_accuracy: 0.8852\n",
      "Epoch 5/20\n",
      "54/54 [==============================] - ETA: 0s - loss: 0.2738 - accuracy: 0.9026INFO:tensorflow:Assets written to: model-005.model\\assets\n",
      "54/54 [==============================] - 52s 973ms/step - loss: 0.2738 - accuracy: 0.9026 - val_loss: 0.2778 - val_accuracy: 0.8899\n",
      "Epoch 6/20\n",
      "54/54 [==============================] - ETA: 0s - loss: 0.2473 - accuracy: 0.9079INFO:tensorflow:Assets written to: model-006.model\\assets\n",
      "54/54 [==============================] - 53s 982ms/step - loss: 0.2473 - accuracy: 0.9079 - val_loss: 0.2771 - val_accuracy: 0.8852\n",
      "Epoch 7/20\n",
      "54/54 [==============================] - 52s 963ms/step - loss: 0.2222 - accuracy: 0.9173 - val_loss: 0.2869 - val_accuracy: 0.8735\n",
      "Epoch 8/20\n",
      "54/54 [==============================] - 52s 965ms/step - loss: 0.2122 - accuracy: 0.9219 - val_loss: 0.2919 - val_accuracy: 0.8876\n",
      "Epoch 9/20\n",
      "54/54 [==============================] - ETA: 0s - loss: 0.1830 - accuracy: 0.9302INFO:tensorflow:Assets written to: model-009.model\\assets\n",
      "54/54 [==============================] - 49s 906ms/step - loss: 0.1830 - accuracy: 0.9302 - val_loss: 0.2764 - val_accuracy: 0.8899\n",
      "Epoch 10/20\n",
      "54/54 [==============================] - ETA: 0s - loss: 0.1739 - accuracy: 0.9372INFO:tensorflow:Assets written to: model-010.model\\assets\n",
      "54/54 [==============================] - 49s 912ms/step - loss: 0.1739 - accuracy: 0.9372 - val_loss: 0.2419 - val_accuracy: 0.9063\n",
      "Epoch 11/20\n",
      "54/54 [==============================] - 49s 912ms/step - loss: 0.1416 - accuracy: 0.9478 - val_loss: 0.2503 - val_accuracy: 0.9110\n",
      "Epoch 12/20\n",
      "54/54 [==============================] - 47s 871ms/step - loss: 0.1243 - accuracy: 0.9531 - val_loss: 0.2746 - val_accuracy: 0.9040\n",
      "Epoch 13/20\n",
      "54/54 [==============================] - 49s 905ms/step - loss: 0.1427 - accuracy: 0.9454 - val_loss: 0.2675 - val_accuracy: 0.9063\n",
      "Epoch 14/20\n",
      "54/54 [==============================] - 46s 853ms/step - loss: 0.1143 - accuracy: 0.9595 - val_loss: 0.2859 - val_accuracy: 0.9110\n",
      "Epoch 15/20\n",
      "54/54 [==============================] - ETA: 0s - loss: 0.1384 - accuracy: 0.9519INFO:tensorflow:Assets written to: model-015.model\\assets\n",
      "54/54 [==============================] - 47s 865ms/step - loss: 0.1384 - accuracy: 0.9519 - val_loss: 0.2406 - val_accuracy: 0.9157\n",
      "Epoch 16/20\n",
      "54/54 [==============================] - 45s 835ms/step - loss: 0.0884 - accuracy: 0.9660 - val_loss: 0.2779 - val_accuracy: 0.9016\n",
      "Epoch 17/20\n",
      "54/54 [==============================] - 50s 923ms/step - loss: 0.0867 - accuracy: 0.9677 - val_loss: 0.2900 - val_accuracy: 0.9133\n",
      "Epoch 18/20\n",
      "54/54 [==============================] - 45s 838ms/step - loss: 0.0808 - accuracy: 0.9712 - val_loss: 0.3002 - val_accuracy: 0.9133\n",
      "Epoch 19/20\n",
      "54/54 [==============================] - 46s 846ms/step - loss: 0.0702 - accuracy: 0.9736 - val_loss: 0.3145 - val_accuracy: 0.8993\n",
      "Epoch 20/20\n",
      "54/54 [==============================] - 45s 839ms/step - loss: 0.0942 - accuracy: 0.9654 - val_loss: 0.2490 - val_accuracy: 0.9157\n"
     ]
    }
   ],
   "source": [
    "checkpoint = ModelCheckpoint('model-{epoch:03d}.model',monitor='val_loss',verbose=0,save_best_only=True,mode='auto')\n",
    "history=model.fit(train_data,train_target,epochs=20,callbacks=[checkpoint],validation_split=0.2)"
   ]
  },
  {
   "cell_type": "code",
   "execution_count": 5,
   "metadata": {
    "id": "y9qj6hxylbJZ",
    "outputId": "2e7a485e-5ad1-4095-b56b-29132d607d01"
   },
   "outputs": [
    {
     "data": {
      "image/png": "[encoded data removed]",
      "text/plain": [
       "<Figure size 432x288 with 1 Axes>"
      ]
     },
     "metadata": {
      "needs_background": "light"
     },
     "output_type": "display_data"
    }
   ],
   "source": [
    "from matplotlib import pyplot as plt\n",
    "\n",
    "plt.plot(history.history['loss'],'r',label='training loss')\n",
    "plt.plot(history.history['val_loss'],label='validation loss')\n",
    "plt.xlabel('# epochs')\n",
    "plt.ylabel('loss')\n",
    "plt.legend()\n",
    "plt.show()"
   ]
  },
  {
   "cell_type": "code",
   "execution_count": 6,
   "metadata": {
    "id": "jog2OGCflbJb",
    "outputId": "559fbe50-1f2b-4863-eb57-dfba12a94c13"
   },
   "outputs": [
    {
     "data": {
      "image/png": "[encoded data removed]",
      "text/plain": [
       "<Figure size 432x288 with 1 Axes>"
      ]
     },
     "metadata": {
      "needs_background": "light"
     },
     "output_type": "display_data"
    }
   ],
   "source": [
    "plt.plot(history.history['accuracy'],'r',label='training accuracy')\n",
    "plt.plot(history.history['val_accuracy'],label='validation accuracy')\n",
    "plt.xlabel('# epochs')\n",
    "plt.ylabel('loss')\n",
    "plt.legend()\n",
    "plt.show()"
   ]
  },
  {
   "cell_type": "code",
   "execution_count": 7,
   "metadata": {
    "id": "o6F2k4omlbJd",
    "outputId": "f9ea487d-d602-47d5-9b83-6c07b618264e"
   },
   "outputs": [
    {
     "name": "stdout",
     "output_type": "stream",
     "text": [
      "8/8 [==============================] - 2s 195ms/step - loss: 0.1695 - accuracy: 0.9367\n",
      "[0.16954296827316284, 0.9367088675498962]\n"
     ]
    }
   ],
   "source": [
    "print(model.evaluate(test_data,test_target))"
   ]
  },
  {
   "cell_type": "code",
   "execution_count": 8,
   "metadata": {},
   "outputs": [],
   "source": [
    "model.save(\"gec_model_v1.h5\")"
   ]
  },
  {
   "cell_type": "code",
   "execution_count": null,
   "metadata": {},
   "outputs": [],
   "source": [
    "model.d"
   ]
  }
 ],
 "metadata": {
  "colab": {
   "name": "2.0 training the CNN.ipynb",
   "provenance": []
  },
  "kernelspec": {
   "display_name": "Python 3",
   "language": "python",
   "name": "python3"
  },
  "language_info": {
   "codemirror_mode": {
    "name": "ipython",
    "version": 3
   },
   "file_extension": ".py",
   "mimetype": "text/x-python",
   "name": "python",
   "nbconvert_exporter": "python",
   "pygments_lexer": "ipython3",
   "version": "3.8.8"
  }
 },
 "nbformat": 4,
 "nbformat_minor": 1
}
